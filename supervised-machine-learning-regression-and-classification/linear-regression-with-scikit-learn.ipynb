{
 "cells": [
  {
   "cell_type": "markdown",
   "metadata": {},
   "source": [
    "# Linear Regression using Scikit-Learn\n",
    "\n",
    "In this exercise, we want to predict the price of used Ducati Monster motorcycles by using the following data:\n",
    "\n",
    "| Manufacture Year | Engine displacement in cc | Mileage | Price in USD |\n",
    "| ---------------- | ------------------------- | ------- | ------------ |\n",
    "| 2007 |  992 | 11750 |  7499 |\n",
    "| 2014 | 1198 | 12000 |  8355 |\n",
    "| 2016 |  821 |  4200 |  9500 |\n",
    "| 2023 |  937 |   105 | 12798 |\n",
    "| 2002 |  620 | 13700 |  2800 |\n",
    "| 2023 |  937 |   882 | 10500 |\n",
    "| 2000 |  750 | 38907 |  2200 |\n",
    "| 2017 | 1198 |  7211 | 11499 |\n",
    "| 2011 | 1078 |  5400 |  6850 |\n",
    "| 2002 |  620 |  7000 |  2699 |\n",
    "| 2002 |  620 | 27000 |  2299 |\n",
    "| 2017 |  821 |  7500 |  8999 |\n",
    "| 2022 |  937 |   619 | 12498 |\n",
    "| 2015 |  821 |  4100 |  7200 |\n",
    "| 2015 | 1198 | 12984 |  9995 |\n",
    "| 2001 |  750 |  1475 |  3500 |\n",
    "| 2006 |  620 |  7000 |  2250 |\n",
    "| 2014 | 1198 | 12500 |  7500 |\n",
    "| 2009 | 1078 | 12900 |  5250 |\n",
    "| 2018 |  803 |  3450 |  7000 |"
   ]
  },
  {
   "cell_type": "markdown",
   "metadata": {},
   "source": [
    "### TOOLS\n",
    "\n",
    "We utilize the following tools from scikit-learn as well as matplotlib and NumPy:"
   ]
  },
  {
   "cell_type": "code",
   "execution_count": 37,
   "metadata": {},
   "outputs": [],
   "source": [
    "import numpy as np\n",
    "import matplotlib.pyplot as plt\n",
    "from sklearn.linear_model import SGDRegressor\n",
    "from sklearn.preprocessing import StandardScaler\n",
    "from sklearn.linear_model import LinearRegression"
   ]
  },
  {
   "cell_type": "markdown",
   "metadata": {},
   "source": [
    "### Loading the data set"
   ]
  },
  {
   "cell_type": "code",
   "execution_count": 2,
   "metadata": {},
   "outputs": [],
   "source": [
    "X_train = np.array([\n",
    "  [2007,992,11750], \n",
    "  [2014,1198,12000],\n",
    "  [2016,821,4200],\n",
    "  [2023,937,105],\n",
    "  [2002,620,13700],\n",
    "  [2023,937,882],\n",
    "  [2000,750,38907],\n",
    "  [2017,1198,7211],\n",
    "  [2011,1078,5400],\n",
    "  [2002,620,7000],\n",
    "  [2002,620,27000],\n",
    "  [2017,821,7500],\n",
    "  [2022,937,619],\n",
    "  [2015,821,4100],\n",
    "  [2015,1198,12984],\n",
    "  [2001,750,1475],\n",
    "  [2006,620,7000],\n",
    "  [2014,1198,12500],\n",
    "  [2009,1078,12900],\n",
    "  [2018,803,3450]\n",
    "  ])\n",
    "y_train = np.array([7499,8355,9500,12798,2800,10500,2200,11499,6850,2699,2299,8999,12498,7200,9995,3500,2250,7500,5250,7000])\n",
    "X_features = ['year','cc','miles']"
   ]
  },
  {
   "cell_type": "markdown",
   "metadata": {},
   "source": [
    "## Gradient Descent\n",
    "\n",
    "Scikit-learn has a gradient descent regression model [sklearn.linear_model.SGDRegressor](https://scikit-learn.org/stable/modules/generated/sklearn.linear_model.SGDRegressor.html#examples-using-sklearn-linear-model-sgdregressor).  This model performs best with normalized inputs. [sklearn.preprocessing.StandardScaler](https://scikit-learn.org/stable/modules/generated/sklearn.preprocessing.StandardScaler.html#sklearn.preprocessing.StandardScaler) will perform z-score normalization. Here it is referred to as 'standard score'."
   ]
  },
  {
   "cell_type": "markdown",
   "metadata": {},
   "source": [
    "### Scale and normalize the (training) data set"
   ]
  },
  {
   "cell_type": "code",
   "execution_count": 20,
   "metadata": {},
   "outputs": [
    {
     "name": "stdout",
     "output_type": "stream",
     "text": [
      "Peak to Peak range by column in Raw        X:[   23   578 38802]\n",
      "Peak to Peak range by column in Normalized X:[3.09541557 2.85822427 4.24520922]\n",
      "Content of normalized X:\n",
      "[[-0.63254144  0.45568403  0.24242943]\n",
      " [ 0.30954156  1.47435911  0.26978118]\n",
      " [ 0.57870813 -0.3899152  -0.58359319]\n",
      " [ 1.52079113  0.18370767 -1.03161473]\n",
      " [-1.30545787 -1.38386516  0.45577302]\n",
      " [ 1.52079113  0.18370767 -0.94660551]\n",
      " [-1.57462444 -0.74101195  3.2135945 ]\n",
      " [ 0.71329141  1.47435911 -0.2541688 ]\n",
      " [-0.0942083   0.88095615 -0.45230482]\n",
      " [-1.30545787 -1.38386516 -0.27725367]\n",
      " [-1.30545787 -1.38386516  1.91088572]\n",
      " [ 0.71329141 -0.3899152  -0.22255019]\n",
      " [ 1.38620784  0.18370767 -0.97537954]\n",
      " [ 0.44412484 -0.3899152  -0.59453388]\n",
      " [ 0.44412484  1.47435911  0.37743763]\n",
      " [-1.44004116 -0.74101195 -0.88172718]\n",
      " [-0.76712473 -1.38386516 -0.27725367]\n",
      " [ 0.30954156  1.47435911  0.32448466]\n",
      " [-0.36337487  0.88095615  0.36824745]\n",
      " [ 0.8478747  -0.47892564 -0.66564841]]\n"
     ]
    }
   ],
   "source": [
    "scaler = StandardScaler()\n",
    "X_norm = scaler.fit_transform(X_train)\n",
    "print(f\"Peak to Peak range by column in Raw        X:{np.ptp(X_train,axis=0)}\")   \n",
    "print(f\"Peak to Peak range by column in Normalized X:{np.ptp(X_norm,axis=0)}\")\n",
    "print(f\"Content of normalized X:\\n{X_norm}\")"
   ]
  },
  {
   "cell_type": "markdown",
   "metadata": {},
   "source": [
    "### Create and fit the regression model"
   ]
  },
  {
   "cell_type": "code",
   "execution_count": 4,
   "metadata": {},
   "outputs": [
    {
     "name": "stdout",
     "output_type": "stream",
     "text": [
      "SGDRegressor()\n",
      "number of iterations completed: 737, number of weight updates: 14741.0\n"
     ]
    }
   ],
   "source": [
    "sgdr = SGDRegressor(max_iter=1000)\n",
    "sgdr.fit(X_norm, y_train)\n",
    "print(sgdr)\n",
    "print(f\"number of iterations completed: {sgdr.n_iter_}, number of weight updates: {sgdr.t_}\")"
   ]
  },
  {
   "cell_type": "markdown",
   "metadata": {},
   "source": [
    "### View parameters\n",
    "\n",
    "Parameters are associated with the *normalized* input data."
   ]
  },
  {
   "cell_type": "code",
   "execution_count": 38,
   "metadata": {},
   "outputs": [
    {
     "name": "stdout",
     "output_type": "stream",
     "text": [
      "model parameters: w: [2679.09616695  802.75434564 -139.47778782], b:[7059.20141143]\n"
     ]
    }
   ],
   "source": [
    "w_norm = sgdr.coef_\n",
    "b_norm = sgdr.intercept_\n",
    "print(f\"model parameters: w: {w_norm}, b:{b_norm}\")"
   ]
  },
  {
   "cell_type": "markdown",
   "metadata": {},
   "source": [
    "### Make predictions based on **existing training data**\n",
    "Predict the targets of the training data. Use both the `predict` routine and compute using $w$ and $b$."
   ]
  },
  {
   "cell_type": "code",
   "execution_count": 6,
   "metadata": {},
   "outputs": [
    {
     "name": "stdout",
     "output_type": "stream",
     "text": [
      "prediction using np.dot() and sgdr.predict match: True\n",
      "Prediction on training set:\n",
      "[ 5696.5508692   9034.4127127   8378.0083062  11424.90655784]\n",
      "Target values \n",
      "[ 7499  8355  9500 12798]\n"
     ]
    }
   ],
   "source": [
    "# make a prediction using sgdr.predict()\n",
    "y_pred_sgd = sgdr.predict(X_norm)\n",
    "# make a prediction using w,b. \n",
    "y_pred = np.dot(X_norm, w_norm) + b_norm  \n",
    "print(f\"prediction using np.dot() and sgdr.predict match: {(y_pred == y_pred_sgd).all()}\")\n",
    "\n",
    "print(f\"Prediction on training set:\\n{y_pred[:4]}\" )\n",
    "print(f\"Target values \\n{y_train[:4]}\")"
   ]
  },
  {
   "cell_type": "markdown",
   "metadata": {},
   "source": [
    "#### Plot results\n",
    "Let's plot the predictions versus the target values."
   ]
  },
  {
   "cell_type": "code",
   "execution_count": 10,
   "metadata": {},
   "outputs": [
    {
     "data": {
      "image/png": "[encoded data removed]",
      "text/plain": [
       "<Figure size 1200x300 with 3 Axes>"
      ]
     },
     "metadata": {},
     "output_type": "display_data"
    }
   ],
   "source": [
    "# plot predictions and targets vs original features    \n",
    "fig,ax=plt.subplots(1,3,figsize=(12,3),sharey=True)\n",
    "for i in range(len(ax)):\n",
    "    ax[i].scatter(X_train[:,i],y_train, label = 'target')\n",
    "    ax[i].set_xlabel(X_features[i])\n",
    "    ax[i].scatter(X_train[:,i],y_pred, label = 'predict')\n",
    "ax[0].set_ylabel(\"Price\"); ax[0].legend();\n",
    "fig.suptitle(\"target versus prediction using z-score normalized model\")\n",
    "plt.show()"
   ]
  },
  {
   "cell_type": "markdown",
   "metadata": {},
   "source": [
    "### Make predictions based on **new data**\n",
    "Predict the targets of the training data. Use both the `predict` routine and compute using $w$ and $b$."
   ]
  },
  {
   "cell_type": "code",
   "execution_count": 52,
   "metadata": {},
   "outputs": [
    {
     "name": "stdout",
     "output_type": "stream",
     "text": [
      "The predicted price is $8277.29 which is $1327.29 off the actual price\n"
     ]
    }
   ],
   "source": [
    "# make a prediction using sgdr.predict() on a used 2016 Monster with 821cc and 10800 miles, listed for $6950\n",
    "X_new_motorbike = np.array([[2016,821,10800]])\n",
    "y_new_motorbike = np.array([6950])\n",
    "# normalize data\n",
    "X_new_motorbike_norm = (scaler.transform(X_new_motorbike))\n",
    "# create prediction\n",
    "y_pred_new_motorbike_norm = sgdr.predict(X_new_motorbike_norm)[0]\n",
    "\n",
    "print(f\"The predicted price is ${y_pred_new_motorbike_norm:0.2f} which is ${y_pred_new_motorbike_norm-y_new_motorbike[0]:0.2f} off the actual price\")\n",
    "\n",
    "\n"
   ]
  },
  {
   "cell_type": "markdown",
   "metadata": {},
   "source": [
    "## Linear Regression\n",
    "\n",
    "Scikit-learn has the [linear regression model](https://scikit-learn.org/stable/modules/generated/sklearn.linear_model.LinearRegression.html#sklearn.linear_model.LinearRegression) which implements a closed-form linear regression. This closed-form solution does not require normalization."
   ]
  },
  {
   "cell_type": "code",
   "execution_count": 39,
   "metadata": {},
   "outputs": [
    {
     "name": "stdout",
     "output_type": "stream",
     "text": [
      "w = [ 3.61792755e+02  3.94482391e+00 -1.45781952e-02], b = -724169.70\n"
     ]
    }
   ],
   "source": [
    "linear_model = LinearRegression()\n",
    "linear_model.fit(X_train, y_train)\n",
    "b = linear_model.intercept_\n",
    "w = linear_model.coef_\n",
    "print(f\"w = {w:}, b = {b:0.2f}\")"
   ]
  },
  {
   "cell_type": "markdown",
   "metadata": {},
   "source": [
    "### Make predictions based on **existing training data**"
   ]
  },
  {
   "cell_type": "code",
   "execution_count": 47,
   "metadata": {},
   "outputs": [
    {
     "name": "stdout",
     "output_type": "stream",
     "text": [
      "Prediction on training set for the first motorbike: $5690.34\n",
      "Actual price: $7499.00\n"
     ]
    }
   ],
   "source": [
    "print(f\"Prediction on training set for the first motorbike: ${linear_model.predict(X_train)[:1][0]:0.2f}\" )\n",
    "print(f\"Actual price: ${y_train[:1][0]:0.2f}\")"
   ]
  },
  {
   "cell_type": "markdown",
   "metadata": {},
   "source": [
    "### Make predictions based on **new data**"
   ]
  },
  {
   "cell_type": "code",
   "execution_count": 53,
   "metadata": {},
   "outputs": [
    {
     "name": "stdout",
     "output_type": "stream",
     "text": [
      "The predicted price is $8285.76 which is $1335.76 off the actual price\n"
     ]
    }
   ],
   "source": [
    "y_pred_new_motorbike = linear_model.predict(X_new_motorbike)[0]\n",
    "print(f\"The predicted price is ${y_pred_new_motorbike:0.2f} which is ${y_pred_new_motorbike-y_new_motorbike[0]:0.2f} off the actual price\")"
   ]
  }
 ],
 "metadata": {
  "kernelspec": {
   "display_name": "Python 3",
   "language": "python",
   "name": "python3"
  },
  "language_info": {
   "codemirror_mode": {
    "name": "ipython",
    "version": 3
   },
   "file_extension": ".py",
   "mimetype": "text/x-python",
   "name": "python",
   "nbconvert_exporter": "python",
   "pygments_lexer": "ipython3",
   "version": "3.11.0"
  },
  "orig_nbformat": 4
 },
 "nbformat": 4,
 "nbformat_minor": 2
}
